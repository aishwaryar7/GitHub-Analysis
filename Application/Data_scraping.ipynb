{
 "cells": [
  {
   "cell_type": "code",
   "execution_count": null,
   "metadata": {},
   "outputs": [],
   "source": [
    "from github import Github\n",
    "from unidecode import unidecode\n",
    "from datetime import datetime, timedelta\n",
    "import time\n",
    "\n",
    "# Generate the github token using user name and password\n",
    "g = Github('aebf2c813b4d40cd2832b0fff6bfa744c090a5c5')\n",
    "\n",
    "# Set the start and the end dates \n",
    "end_date = datetime.today()\n",
    "start_date = datetime(2008, 11, 30)\n",
    "\n",
    "# Calculate the days between start and end \n",
    "def days(start_date, end_date):\n",
    "    for n in range(int ((end_date - start_date).days)):\n",
    "        yield start_date + timedelta(n)\n",
    "\n",
    "# Scrape all the repositories with stars greater than 4 and save it in a file\n",
    "for day in days(start_date, end_date + timedelta(1)):\n",
    "    filetag = str(day.year) + '-' + str(day.month).zfill(2) + '-' + str(day.day).zfill(2)\n",
    "    query = 'created:' + filetag + ' stars:>1'\n",
    "    repos = g.search_repositories(query=query)\n",
    "\n",
    "    with open(filetag + '.txt', 'w') as f:\n",
    "        f.write('Repository' +'\\t'+ 'Owner' +'\\t'+ 'Language' +'\\t'+ 'Stars' +'\\t'+ 'Created_On'+ '\\n')\n",
    "        for repo in repos:\n",
    "            if repo.owner.type == 'User':\n",
    "                f.write(repo.name)\n",
    "                f.write('\\t')\n",
    "                if repo.owner.name:\n",
    "                    f.write(unidecode(repo.owner.name))\n",
    "                else:\n",
    "                    f.write(\"None\")\n",
    "                f.write('\\t')\n",
    "                f.write(str(repo.language))\n",
    "                f.write('\\t')\n",
    "                f.write(str(repo.stargazers_count))\n",
    "                f.write('\\t')\n",
    "                f.write(str(repo.created_at))\n",
    "                f.write('\\n')\n",
    "\n",
    "    time.sleep(150) # To prevent the 'API Limit'  condition"
   ]
  },
  {
   "cell_type": "code",
   "execution_count": 1,
   "metadata": {},
   "outputs": [],
   "source": [
    "import csv\n",
    "import openpyxl\n",
    "import glob\n",
    "\n",
    "# Get the list of files created based on the data scraped\n",
    "list_of_files = glob.glob('Data/Final/*.txt')\n",
    "output_file = 'github_data.xls'\n",
    "\n",
    "wb = openpyxl.Workbook()\n",
    "ws = wb.worksheets[0]\n",
    "\n",
    "# Append the data in each list to an excel sheet\n",
    "for fileName in list_of_files:\n",
    "    with open(fileName, 'rt', errors='ignore') as data:\n",
    "        next(data)\n",
    "        reader = csv.reader(data, delimiter='\\t')\n",
    "        for row in reader:\n",
    "            ws.append(row)\n",
    "        \n",
    "# Dataset \n",
    "wb.save(output_file)"
   ]
  }
 ],
 "metadata": {
  "kernelspec": {
   "display_name": "Python 3",
   "language": "python",
   "name": "python3"
  },
  "language_info": {
   "codemirror_mode": {
    "name": "ipython",
    "version": 3
   },
   "file_extension": ".py",
   "mimetype": "text/x-python",
   "name": "python",
   "nbconvert_exporter": "python",
   "pygments_lexer": "ipython3",
   "version": "3.6.4"
  }
 },
 "nbformat": 4,
 "nbformat_minor": 2
}
